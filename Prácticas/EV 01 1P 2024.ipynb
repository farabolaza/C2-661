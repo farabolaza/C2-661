{
  "cells": [
    {
      "cell_type": "raw",
      "metadata": {},
      "source": [
        "---\n",
        "title: Primer parcial\n",
        "format:\n",
        "  html:\n",
        "    toc: true\n",
        "    number-sections: true\n",
        "    html-math-method: katex\n",
        "---"
      ],
      "id": "5026e19c"
    },
    {
      "cell_type": "markdown",
      "metadata": {},
      "source": [
        "# Simulacro de parcial\n",
        "\n",
        "::: {#exr-primero}\n",
        "## Python básico\n",
        "\n",
        "Crear una función que devuelva tres arrays o listas, para el tiempo y para las posiciones $x$ e $y$ \n",
        "en el plano de un cuerpo que se mueve bajo condiciones iniciales arbiatrarias ($a_x$,$a_y$,$v_x$,$v_y$,$x_0$,$y_0$,$\\Delta t$).\n",
        ":::\n",
        "\n",
        "::: {#exr-segundo}\n",
        "## Pandas y numpy\n",
        "\n",
        "Sea $a_y=-3$, $v_{0x}=10$ y $x_0=2$ genere un dataframe con valores creados con la función anterior para el tiempo de vuelo del cuerpo y guardelo como .csv.\n",
        ":::\n",
        "\n",
        "::: {#exr-tercero}\n",
        "## Matplotlib\n",
        "\n",
        "Importe los datos del csv y haga gráficas $x(t)$, $y(t)$, $v_x(t)$, $v_y(t)$ e $y(x)$ que incluyan los nombres de los ejes con sus rótulos respctivos.\n",
        ":::\n",
        "\n",
        "::: {#exr-extra}\n",
        "## Matplotlib y animaciones\n",
        "\n",
        "Haga una animación de la gráfica $y(x)$ para el tiempo de vuelo.\n",
        ":::\n"
      ],
      "id": "66748e4f"
    },
    {
      "cell_type": "code",
      "metadata": {},
      "source": [
        "import matplotlib.pyplot as plt\n",
        "import numpy as np\n",
        "import pandas as pd\n",
        "\n",
        "def f(ax=0,ay=-9.8,v0x=0,v0y=0,x0=0,y0=0,dt=10):\n",
        "\n",
        "    t = np.linspace(0,dt,50*dt)\n",
        "    x = ax*t**2 + v0x*t + x0\n",
        "    y = ay*t**2 + v0y*t + y0\n",
        "\n",
        "    yr = y[y>0]\n",
        "    xr = x[:len(y[y>0])]\n",
        "    tr = t[:len(y[y>0])]\n",
        "\n",
        "    d = np.array([tr,xr,yr])\n",
        "    # d2 = pd.DataFrame(d.T, columns=['t','x','y'])\n",
        "\n",
        "    return d"
      ],
      "id": "cdbaa25e",
      "execution_count": null,
      "outputs": []
    }
  ],
  "metadata": {
    "kernelspec": {
      "name": "python3",
      "language": "python",
      "display_name": "Python 3 (ipykernel)"
    }
  },
  "nbformat": 4,
  "nbformat_minor": 5
}